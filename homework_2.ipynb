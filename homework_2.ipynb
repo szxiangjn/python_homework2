{
 "cells": [
  {
   "cell_type": "code",
   "execution_count": 5,
   "metadata": {},
   "outputs": [],
   "source": [
    "import requests\n",
    "import time\n",
    "\n",
    "if __name__ == '__main__':\n",
    "    headers = {}\n",
    "    keyvalue = {}\n",
    "    url = 'http://data.stats.gov.cn/easyquery.htm'\n",
    "    headers['User-Agent'] = 'Mozilla/5.0 (Windows NT 10.0; Win64; x64) '\\\n",
    "                            'AppleWebKit/537.36 (KHTML, like Gecko) '\\\n",
    "                            'Chrome/70.0.3538.77 Safari/537.36'\n",
    "                            \n",
    "    keyvalue['m'] = 'QueryData'\n",
    "    keyvalue['dbcode'] = 'hgnd'\n",
    "    keyvalue['rowcode'] = 'zb'\n",
    "    keyvalue['colcode'] = 'sj'\n",
    "    keyvalue['wds'] = '[]'\n",
    "    keyvalue['dfwds'] = '[{\"wdcode\":\"zb\",\"valuecode\":\"A0C02\"},{\"wdcode\":\"sj\",\"valuecode\":\"2004-2017\"}]'\n",
    "    tim = int(round(time.time() * 1000))\n",
    "    keyvalue['k1'] = str(tim)\n",
    "    r = requests.get(url, headers=headers, params=keyvalue)\n",
    "r = r.json()"
   ]
  },
  {
   "cell_type": "code",
   "execution_count": 6,
   "metadata": {},
   "outputs": [],
   "source": [
    "w = {}\n",
    "w_s = {}\n",
    "w_u = {}\n",
    "list = r['returndata']['datanodes']\n",
    "for datanode in list:\n",
    "    code = datanode['code']\n",
    "    year = int(code.split('.')[-1])\n",
    "    if 'A0C0201' in code:\n",
    "        w[year] = datanode['data']['data']\n",
    "    if 'A0C0202' in code:\n",
    "        w_s[year] = datanode['data']['data']\n",
    "    if 'A0C0203' in code:\n",
    "        w_u[year] = datanode['data']['data']"
   ]
  },
  {
   "cell_type": "code",
   "execution_count": 7,
   "metadata": {},
   "outputs": [
    {
     "data": {
      "text/plain": [
       "{2017: 28761.2,\n",
       " 2016: 32466.4,\n",
       " 2015: 27962.6,\n",
       " 2014: 27266.9,\n",
       " 2013: 27957.8573804188,\n",
       " 2012: 29528.7897250466,\n",
       " 2011: 23256.7,\n",
       " 2010: 30906.4063979384,\n",
       " 2009: 24180.20107,\n",
       " 2008: 27434.3,\n",
       " 2007: 25255.1558,\n",
       " 2006: 25330.1423466444,\n",
       " 2005: 28053.1,\n",
       " 2004: 24129.56}"
      ]
     },
     "execution_count": 7,
     "metadata": {},
     "output_type": "execute_result"
    }
   ],
   "source": [
    "w"
   ]
  },
  {
   "cell_type": "code",
   "execution_count": 8,
   "metadata": {},
   "outputs": [
    {
     "name": "stdout",
     "output_type": "stream",
     "text": [
      "Opened database successfully\n",
      "Water Resource Table Created!\n",
      "Surface Water Resource Table Created!\n",
      "Underground Water Resource Table Created!\n"
     ]
    }
   ],
   "source": [
    "import sqlite3\n",
    "conn = sqlite3.connect('water_resource.db')\n",
    "print(\"Opened database successfully\")\n",
    "c = conn.cursor()\n",
    "c.execute('''CREATE TABLE W\n",
    "       (ID INT PRIMARY KEY     NOT NULL,\n",
    "       YEAR        TEXT    NOT NULL,\n",
    "       AMOUNT        TEXT    NOT NULL);''')\n",
    "print(\"Water Resource Table Created!\")\n",
    "c.execute('''CREATE TABLE WS\n",
    "       (ID INT PRIMARY KEY     NOT NULL,\n",
    "       YEAR        TEXT    NOT NULL,\n",
    "       AMOUNT        TEXT    NOT NULL);''')\n",
    "print(\"Surface Water Resource Table Created!\")\n",
    "c.execute('''CREATE TABLE WU\n",
    "       (ID INT PRIMARY KEY     NOT NULL,\n",
    "       YEAR        TEXT    NOT NULL,\n",
    "       AMOUNT        TEXT    NOT NULL);''')\n",
    "print(\"Underground Water Resource Table Created!\")\n",
    "conn.commit()\n",
    "conn.close()"
   ]
  },
  {
   "cell_type": "code",
   "execution_count": 11,
   "metadata": {},
   "outputs": [
    {
     "name": "stdout",
     "output_type": "stream",
     "text": [
      "Records created successfully\n"
     ]
    }
   ],
   "source": [
    "# Insert data\n",
    "conn = sqlite3.connect('water_resource.db')\n",
    "c = conn.cursor()\n",
    "\n",
    "# make sure you already have the dict CITIES in the memory\n",
    "for i, k in enumerate(w):\n",
    "    sql = \"INSERT INTO W (ID,YEAR,AMOUNT) \\\n",
    "      VALUES (%d, %d, %d);\" % (i, k, w[k])\n",
    "    c.execute(sql)\n",
    "    sql = \"INSERT INTO WS (ID,YEAR,AMOUNT) \\\n",
    "      VALUES (%d, %d, %d);\" % (i, k, w_s[k])\n",
    "    c.execute(sql)\n",
    "    sql = \"INSERT INTO WU (ID,YEAR,AMOUNT) \\\n",
    "      VALUES (%d, %d, %d);\" % (i, k, w_u[k])\n",
    "    c.execute(sql)\n",
    "\n",
    "conn.commit()\n",
    "print(\"Records created successfully\")\n",
    "conn.close()"
   ]
  },
  {
   "cell_type": "code",
   "execution_count": 1,
   "metadata": {},
   "outputs": [],
   "source": [
    "import sqlite3\n",
    "conn = sqlite3.connect('water_resource.db')\n",
    "c = conn.cursor()\n",
    "c.execute(\"select * from W;\")\n",
    "data = c.fetchall()\n",
    "conn.commit()\n",
    "conn.close()\n",
    "year = []\n",
    "w = []\n",
    "\n",
    "for item in data:\n",
    "    year.append(int(item[1]))\n",
    "    w.append(int(item[2]))"
   ]
  },
  {
   "cell_type": "code",
   "execution_count": 3,
   "metadata": {},
   "outputs": [
    {
     "data": {
      "image/png": "[encoded data removed]",
      "text/plain": [
       "<Figure size 432x288 with 1 Axes>"
      ]
     },
     "metadata": {
      "needs_background": "light"
     },
     "output_type": "display_data"
    }
   ],
   "source": [
    "import matplotlib.pyplot as plt\n",
    "import numpy as np\n",
    "from pylab import mpl \n",
    "\n",
    "mpl.rcParams['font.sans-serif'] = ['SimHei']\n",
    "'''\n",
    "plt.figure(figsize=[20, 6])\n",
    "plt.ylim([120000,140000])\n",
    "plt.bar(year, p, facecolor='#ff9800')\n",
    "xtick = np.arange(1999,2019)\n",
    "ytick = np.arange(120000, 140001, 2500)\n",
    "plt.xticks(xtick, size=15)\n",
    "plt.yticks(ytick, size=12)\n",
    "plt.xlabel('年份', size=17)\n",
    "plt.ylabel('人口数', size=15)\n",
    "plt.title('中国1999-2008年年末总人口数', size=20)\n",
    "plt.show()\n",
    "'''\n",
    "plt.bar(year, w)\n",
    "plt.ylim([20000, 34000])\n",
    "plt.xlabel('年份')\n",
    "plt.ylabel('水资源总量')\n",
    "plt.title('中国2004-2017年水资源总量')\n",
    "plt.show()"
   ]
  },
  {
   "cell_type": "code",
   "execution_count": 4,
   "metadata": {},
   "outputs": [],
   "source": [
    "conn = sqlite3.connect('water_resource.db')\n",
    "c = conn.cursor()\n",
    "c.execute(\"select * from WS;\")\n",
    "data1 = c.fetchall()\n",
    "c.execute(\"select * from WU;\")\n",
    "data2 = c.fetchall()\n",
    "conn.commit()\n",
    "conn.close()\n",
    "ws = []\n",
    "wu = []\n",
    "\n",
    "for i in range(len(data1)):\n",
    "    ws.append(int(data1[i][2]))\n",
    "    wu.append(int(data2[i][2]))"
   ]
  },
  {
   "cell_type": "code",
   "execution_count": 16,
   "metadata": {},
   "outputs": [
    {
     "data": {
      "image/png": "[encoded data removed]",
      "text/plain": [
       "<Figure size 1440x432 with 1 Axes>"
      ]
     },
     "metadata": {
      "needs_background": "light"
     },
     "output_type": "display_data"
    }
   ],
   "source": [
    "width = 0.5\n",
    "plt.figure(figsize=[20, 6])\n",
    "year = np.array(year)\n",
    "index = np.arange(len(ws))\n",
    "plt.bar(year-0.15, ws, width=0.3, label='地表水')\n",
    "plt.bar(year+0.15, wu, width=0.3, color='r', label='地下水')\n",
    "plt.title('中国2004-2017年地表与地下水资源量', size=20)\n",
    "legend = plt.legend(loc='upper left',fontsize='x-large')\n",
    "legend.get_title().set_fontsize(fontsize = 50)\n",
    "plt.show()"
   ]
  },
  {
   "cell_type": "code",
   "execution_count": null,
   "metadata": {},
   "outputs": [],
   "source": []
  }
 ],
 "metadata": {
  "kernelspec": {
   "display_name": "Python 3",
   "language": "python",
   "name": "python3"
  },
  "language_info": {
   "codemirror_mode": {
    "name": "ipython",
    "version": 3
   },
   "file_extension": ".py",
   "mimetype": "text/x-python",
   "name": "python",
   "nbconvert_exporter": "python",
   "pygments_lexer": "ipython3",
   "version": "3.7.1"
  }
 },
 "nbformat": 4,
 "nbformat_minor": 2
}
